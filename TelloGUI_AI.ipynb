{
 "cells": [
  {
   "cell_type": "markdown",
   "metadata": {},
   "source": [
    "# Graphical User Interface for Single Tello Operation \n",
    "## -Machine Learning Based Automated Target Detection and Tracking\n",
    "## -Live Video Downlink and Telemetry Monitoring \n",
    "## -Manual Flight Control\n",
    "\n"
   ]
  },
  {
   "cell_type": "markdown",
   "metadata": {},
   "source": [
    "### Imports and Globals"
   ]
  },
  {
   "cell_type": "code",
   "execution_count": 18,
   "metadata": {},
   "outputs": [],
   "source": [
    "# Standard library imports\n",
    "import threading \n",
    "import socket\n",
    "import queue\n",
    "from time import sleep\n",
    "\n",
    "# Third party imports\n",
    "import numpy as np\n",
    "import cv2\n",
    "from IPython.display import display\n",
    "import ipywidgets.widgets as widgets\n",
    "\n",
    "# Local application imports\n",
    "from tello import Tello\n",
    "from stream_camera import StreamCamera\n",
    "from ml_process import MLProcess\n",
    "\n",
    "# Globals\n",
    "TelloIP = '192.168.10.1'\n",
    "TelloVideoPort = 11111   # h.264 video stream from the Tello\n",
    "TelloMovementStepSize = 25 # distance in CM for movement changes"
   ]
  },
  {
   "cell_type": "markdown",
   "metadata": {},
   "source": [
    "### Define The Graphical User Interface Elements\n",
    "The user intreface is built using Jupyter Widgets...\n",
    "\n",
    "Explain event driven programming using on submit and observe methods..."
   ]
  },
  {
   "cell_type": "code",
   "execution_count": 19,
   "metadata": {},
   "outputs": [],
   "source": [
    "# The status data area is created using a grid widget. This widget allows all of the elements to be placed at uniformly\n",
    "# spaced intervals. A list of Text widgets is created (status_items) to hold each piece of status data from the Tello.\n",
    "# One widget from the list is then assigned a specific spot on the grid to create the data layout that is desired.\n",
    "# The status thread will directly update the values for each widget in the background. The order of the data in the list\n",
    "# is just the prder defined the the SDK. For example status_item[15] is the battery voltage.\n",
    "\n",
    "status_grid = widgets.GridspecLayout (9,4)\n",
    "\n",
    "sg_style = {'description_width':'40px'}\n",
    "\n",
    "# Create a text box for each of the status items sent from the Tello\n",
    "status_items = [ widgets.Text(value = str(index),\n",
    "                              description=str(index),\n",
    "                              layout=widgets.Layout(width='100px'),\n",
    "                              style=sg_style, \n",
    "                              disabled=True) for index in range(21) ]\n",
    "\n",
    "#status_grid[0,0] = widgets.Label(value=\"Found MP:\")\n",
    "status_grid[0,0] = status_items[0]\n",
    "                          \n",
    "for i in [1,2,3]:\n",
    "    status_grid[0,i] = status_items[i]\n",
    "\n",
    "status_grid[2,0] = widgets.Label(value=\"Attitude:\")\n",
    "for i in [1,2,3]:\n",
    "    status_grid[2,i] = status_items[i+4]\n",
    "    \n",
    "status_grid[3,0] = widgets.Label(value=\"Velocity:\")\n",
    "for i in [1,2,3]:\n",
    "    status_grid[3,i] = status_items[i+7]\n",
    "\n",
    "status_grid[4,0] = widgets.Label(value=\"Acc:\")\n",
    "for i in [1,2,3]:\n",
    "    status_grid[4,i] = status_items[i+17]\n",
    "\n",
    "status_grid[5,0] = widgets.Label(value=\"Temp:\")\n",
    "status_grid[5,1] = status_items[11]\n",
    "status_grid[5,2] = status_items[12]\n",
    "    \n",
    "status_grid[6,0] = widgets.Label(value=\"Time:\")\n",
    "status_grid[6,1] = status_items[13]\n",
    "status_grid[6,2] = status_items[17]\n",
    "\n",
    "status_grid[7,0] = widgets.Label(value=\"Altitdue:\")\n",
    "status_grid[7,1] = status_items[14]\n",
    "status_grid[7,2] = status_items[16] \n",
    "    \n",
    "status_grid[8,0] = widgets.Label(value=\"Battery:\")\n",
    "status_grid[8,1] = status_items[15]\n"
   ]
  },
  {
   "cell_type": "code",
   "execution_count": 20,
   "metadata": {},
   "outputs": [],
   "source": [
    "# create system status indicators\n",
    "ss_style = {'description_width':'110px'}\n",
    "ss_title_bar = widgets.Text(value = 'x', description = 'IP Address:')\n",
    "ss_communication = widgets.Valid(value=False, description='Communication', style=ss_style)\n",
    "ss_status_stream = widgets.Valid(value=False, description='Status Stream', style=ss_style)\n",
    "#ss_command_mode = widgets.Valid(value=False, description='Command State', style=ss_style)\n",
    "ss_video_stream = widgets.Valid(value=False, description='Video Stream', style=ss_style)\n",
    "ss_ml_process = widgets.Valid(value=False, description='ML Process', style=ss_style)\n",
    "\n",
    "# create a composite control\n",
    "system_status= widgets.VBox([ss_title_bar,\n",
    "                             ss_communication,\n",
    "                             ss_status_stream,\n",
    "                             #ss_command_mode,\n",
    "                             ss_video_stream,\n",
    "                             ss_ml_process], \n",
    "                            layout=widgets.Layout(align_self='auto'))"
   ]
  },
  {
   "cell_type": "code",
   "execution_count": 21,
   "metadata": {},
   "outputs": [],
   "source": [
    "# create flight control buttons\n",
    "fc_button_layout = widgets.Layout(width='80px', height='60px', align_self='center')\n",
    "# TODO - button state should init to current global var\n",
    "fc_center_button = widgets.Button(description='Takeoff', button_style='success', layout=fc_button_layout)\n",
    "fc_forward_button = widgets.Button(description='Forward', layout=fc_button_layout)\n",
    "fc_backward_button = widgets.Button(description='Backward', layout=fc_button_layout)\n",
    "fc_left_button = widgets.Button(description='Rotate Left', layout=fc_button_layout)\n",
    "fc_right_button = widgets.Button(description='Rotate Right', layout=fc_button_layout)\n",
    "fc_middle_box = widgets.HBox([fc_left_button, fc_center_button, fc_right_button], layout=widgets.Layout(align_self='center'))\n",
    "fc_button_box = widgets.VBox([fc_forward_button, fc_middle_box, fc_backward_button])\n",
    "\n",
    "fc_altitude_slider = widgets.IntSlider(\n",
    "                    value=0.5,\n",
    "                    min=20,\n",
    "                    max=200,\n",
    "                    step=5,\n",
    "                    description='Alt:',\n",
    "                    disabled=False,\n",
    "                    continuous_update=True,\n",
    "                    orientation='vertical',\n",
    "                    readout=True,\n",
    "                    readout_format='1d'\n",
    "                )\n",
    "\n",
    "# create a composite control\n",
    "flight_controls = widgets.HBox([fc_button_box, fc_altitude_slider], layout=widgets.Layout(align_self='center'))"
   ]
  },
  {
   "cell_type": "code",
   "execution_count": 22,
   "metadata": {},
   "outputs": [],
   "source": [
    "# create a live video window\n",
    "# Tello's native video resolution is 720p (1280 x 720)\n",
    "video_frame = widgets.Image(format='jpeg',\n",
    "                            width=300, \n",
    "                            height=300, \n",
    "                            description='Live Video Feed',\n",
    "                            layout=widgets.Layout(align_self='center')\n",
    "                           ) # 170,90\n",
    "#video_frame = video_frame.from_file('test_image.jpg')"
   ]
  },
  {
   "cell_type": "code",
   "execution_count": 23,
   "metadata": {},
   "outputs": [],
   "source": [
    "# create target controls\n",
    "target_selection = widgets.Dropdown(\n",
    "                        options=[('None', -1), ('Person', 1), ('Cup', 47), ('Cat', 17)],\n",
    "                        value=-1,\n",
    "                        description='Target:',\n",
    "                        )\n",
    "\n",
    "# TODO - button state should init to current global var\n",
    "detect_button = widgets.Button(description='Detect', layout=widgets.Layout(align_self='center'))\n",
    "track_button = widgets.Button(description='Track', layout=widgets.Layout(align_self='center'))\n",
    "target_activation = widgets.HBox([detect_button, track_button])\n",
    "detection_confidence = widgets.Text(description = 'Confidence:',\n",
    "                                 value = '')\n",
    "\n",
    "detection_progress = widgets.FloatProgress(\n",
    "                    value=0.0,\n",
    "                    min=0.0,\n",
    "                    max=1.0,\n",
    "                    step=1,\n",
    "                    description='Accuracy:',\n",
    "                    bar_style='', # 'success', 'info', 'warning', 'danger' or ''\n",
    "                    orientation='horizontal'\n",
    "                )\n",
    "\n",
    "target_controls = widgets.VBox([target_selection,  \n",
    "                                detection_confidence,\n",
    "                                target_activation] )"
   ]
  },
  {
   "cell_type": "code",
   "execution_count": 24,
   "metadata": {},
   "outputs": [],
   "source": [
    "#create machine learning controls\n",
    "epochs_widget = widgets.IntText(description='epochs', value=1, layout=widgets.Layout(align_self='center'))\n",
    "eval_button = widgets.Button(description='evaluate', layout=widgets.Layout(align_self='center'))\n",
    "train_button = widgets.Button(description='train')\n",
    "loss_widget = widgets.FloatText(description='loss')\n",
    "accuracy_widget = widgets.FloatText(description='accuracy')\n",
    "progress_widget = widgets.FloatProgress(min=0.0, max=1.0, description='progress')\n",
    "\n",
    "machine_learning_controls = widgets.VBox([ epochs_widget,\n",
    "                                           eval_button,\n",
    "                                           loss_widget,\n",
    "                                           accuracy_widget,\n",
    "                                           progress_widget ])"
   ]
  },
  {
   "cell_type": "code",
   "execution_count": 25,
   "metadata": {},
   "outputs": [],
   "source": [
    "# create command area controls\n",
    "command_line = widgets.Text(description='Commands:',\n",
    "                            value='',\n",
    "                            placeholder='command takeoff land flip forward back left right up down cw ccw speed speed?',\n",
    "                            layout = widgets.Layout(width='800px'))\n",
    "# response line\n",
    "response_line = widgets.Textarea(description='Response:',\n",
    "                                 value='',\n",
    "                                 layout = widgets.Layout(width='800px'))\n",
    "\n",
    "command_area = widgets.VBox([ command_line,response_line ])"
   ]
  },
  {
   "cell_type": "markdown",
   "metadata": {},
   "source": [
    "### Define and Register Callback Handlers"
   ]
  },
  {
   "cell_type": "code",
   "execution_count": 26,
   "metadata": {},
   "outputs": [],
   "source": [
    "# define and register command line text box callback\n",
    "def on_command_entered(widget_triggered):    \n",
    "    msg = widget_triggered.value\n",
    "    tello.send_command(msg)\n",
    "\n",
    "command_line.on_submit(on_command_entered)\n",
    "\n",
    "def target_selection_change(change):\n",
    "    mlp.target_selection = change.new\n",
    "\n",
    "# define and register flight control button callbacks\n",
    "def on_center_button_clicked(button):\n",
    "    if tello.is_flying == False:\n",
    "        tello.takeoff()\n",
    "        tello.is_flying = True\n",
    "        #fc_altitude_slider.value = tello.get_height()\n",
    "        print(tello.get_height())\n",
    "        button.description='Land'\n",
    "        button.button_style='danger'\n",
    "    else:\n",
    "        tello.land()\n",
    "        tello.is_flying = False\n",
    "        button.description='Takeoff'\n",
    "        button.button_style='success'\n",
    "        \n",
    "def on_forward_button_clicked(button):\n",
    "    tello.move_forward(TelloMovementStepSize)\n",
    "    \n",
    "def on_backward_button_clicked(button):\n",
    "    tello.move_backward(TelloMovementStepSize)\n",
    "\n",
    "def on_left_button_clicked(button):\n",
    "    tello.rotate_ccw(30)\n",
    "\n",
    "def on_right_button_clicked(button):\n",
    "    tello.rotate_cw(30)\n",
    "\n",
    "def fc_altitude_slider_changed(change):\n",
    "    if change.new > change.old:\n",
    "        tello.move_up(change.new)\n",
    "    else:\n",
    "        tello.move_down(change.new)\n",
    "\n",
    "        \n",
    "# define  control button callbacks   \n",
    "def on_detect_button_clicked(button):\n",
    "    \n",
    "    if mlp.detections_active == False:\n",
    "        mlp.detections_active = True\n",
    "        button.button_style='success'\n",
    "    else:\n",
    "        mlp.detections_active = False\n",
    "        button.button_style='danger'\n",
    "    \n",
    "def on_track_button_clicked(button):\n",
    "    \n",
    "    if mlp.tracking_active == False:\n",
    "        mlp.tracking_active = True\n",
    "        button.button_style='success'\n",
    "    else:\n",
    "        mlp.tracking_active = False\n",
    "        button.button_style='danger'\n",
    "    \n",
    "\n",
    "# register flight control button callbacks\n",
    "fc_center_button.on_click(on_center_button_clicked)\n",
    "fc_forward_button.on_click(on_forward_button_clicked)\n",
    "fc_backward_button.on_click(on_backward_button_clicked)\n",
    "fc_left_button.on_click(on_left_button_clicked)\n",
    "fc_right_button.on_click(on_right_button_clicked)\n",
    "fc_altitude_slider.observe(fc_altitude_slider_changed, names='value')\n",
    "\n",
    "#define target control buttons\n",
    "detect_button.on_click(on_detect_button_clicked)\n",
    "track_button.on_click(on_track_button_clicked)\n",
    "target_selection.observe(target_selection_change, names='value')"
   ]
  },
  {
   "cell_type": "markdown",
   "metadata": {},
   "source": [
    "### Create and Display the Composite GUI\n",
    "\n",
    "The AppLayout widget is used to organize the individual elements of the GUI. The widget is divided into five \n",
    "main areas - a header, a footer and three middle areas - left, center and right. Each of the sections defined above\n",
    "are assigned to the AppLayout widget and then the composit GUI is displayed."
   ]
  },
  {
   "cell_type": "code",
   "execution_count": 27,
   "metadata": {},
   "outputs": [
    {
     "data": {
      "application/vnd.jupyter.widget-view+json": {
       "model_id": "be3bc2eac15e441c9a19cb7e4b163278",
       "version_major": 2,
       "version_minor": 0
      },
      "text/plain": [
       "AppLayout(children=(VBox(children=(Text(value='', description='Commands:', layout=Layout(width='800px'), place…"
      ]
     },
     "metadata": {},
     "output_type": "display_data"
    }
   ],
   "source": [
    "left = widgets.VBox([status_grid, \n",
    "                     system_status], \n",
    "                    layout=widgets.Layout(align_self='auto'))\n",
    "\n",
    "center = widgets.VBox([video_frame, flight_controls])\n",
    "right = widgets.VBox([target_controls])\n",
    "\n",
    "composit_gui = widgets.AppLayout(header = None,\n",
    "                                 left_sidebar = left,\n",
    "                                 center = center,\n",
    "                                 right_sidebar = right,\n",
    "                                 pane_widths = [2,2,2],\n",
    "                                 pane_heights = ['50px',3,1],\n",
    "                                 footer = command_area)\n",
    "display(composit_gui)"
   ]
  },
  {
   "cell_type": "markdown",
   "metadata": {},
   "source": [
    "### Create a Tello object for aircraft Command, Control and Communication"
   ]
  },
  {
   "cell_type": "code",
   "execution_count": 11,
   "metadata": {},
   "outputs": [
    {
     "name": "stdout",
     "output_type": "stream",
     "text": [
      ">> send cmd: command\n",
      "b'\\xcc\\x18\\x01\\xb9\\x88V\\x00\\xb0\\x01\\x00\\x00\\x00\\x00\\x00\\x00\\x00\\x00\\x00\\x00\\x00\\x00I\\x00\\x00\\xa8\\x0f\\x00\\x06\\x00\\x00\\x00\\x00\\x00k\\xcc'\n"
     ]
    },
    {
     "name": "stderr",
     "output_type": "stream",
     "text": [
      "Exception in thread Thread-4:\n",
      "Traceback (most recent call last):\n",
      "  File \"/usr/lib/python3.6/threading.py\", line 916, in _bootstrap_inner\n",
      "    self.run()\n",
      "  File \"/usr/lib/python3.6/threading.py\", line 864, in run\n",
      "    self._target(*self._args, **self._kwargs)\n",
      "  File \"/home/tom/Projects/kipr-areial-dev/KT-GUI-AI-repo/tello.py\", line 91, in _receive_cmd_replies\n",
      "    self._error_response = response.decode(encoding='utf-8') # converts a byte array to a string\n",
      "UnicodeDecodeError: 'utf-8' codec can't decode byte 0xcc in position 0: invalid continuation byte\n",
      "\n"
     ]
    }
   ],
   "source": [
    "def communication_started_change(change):\n",
    "    ss_communication.value = change.new\n",
    "    \n",
    "def status_started_change(change):\n",
    "    ss_status_stream.value = change.new\n",
    "\n",
    "def status_data_change(change):\n",
    "    data = change.new\n",
    "    data = data[:-5].split(';') # convert the data into an array of individual strings, cutting off the trailing ';\\r\\n'\n",
    "    \n",
    "    global status_items\n",
    "    \n",
    "    # The elements defined in the GUI rely on the data being saved to the list in order as defined in the SDK\n",
    "    # todo - test to make sure data lenght = list size\n",
    "    for index in range (len(data)):\n",
    "        status_items[index].description = data[index].split(':')[0]\n",
    "        status_items[index].value = data[index].split(':')[1]              \n",
    "\n",
    "def response_change(change):\n",
    "    response_line.value = change.new\n",
    "\n",
    "    \n",
    "# Create a Tello and start the Command Mode Heartbeat and Status threads\n",
    "try:\n",
    "    tello = Tello.instance(tello_ip = '192.168.10.1',\n",
    "                           local_ip='192.168.10.2',\n",
    "                           command_timeout=3.0\n",
    "                           )   \n",
    "except (RuntimeError, OSError) as msg:\n",
    "    tello = None\n",
    "    response_line.value = repr(msg)\n",
    "else:\n",
    "    tello.unobserve_all()\n",
    "    tello.observe(communication_started_change, names='communication_started')\n",
    "    tello.observe(response_change, names='response')\n",
    "    tello.start_communication()\n",
    "    tello.send_command('command')\n",
    "    tello.observe(status_started_change, names='status_started')\n",
    "    tello.observe(status_data_change, names='status_data')\n",
    "    tello.start_status()"
   ]
  },
  {
   "cell_type": "markdown",
   "metadata": {},
   "source": [
    "### Create a camera object to receive video from the Tello\n",
    "The Tello uses WiFi for all of its communication.\n",
    "\n",
    "The video socket is created by the OpenCV VideoCapture method defined in the TelloCamera class.\n",
    "*** Important Note: the current Tello firmware can only stream video if the Tello is directly connected to the host \n",
    "computer - i.e. at 192.168.10.1 without using a router. If you assign it to an existing netowork it will not stream video.\n",
    "The streamon command will not return an error."
   ]
  },
  {
   "cell_type": "code",
   "execution_count": 12,
   "metadata": {},
   "outputs": [
    {
     "name": "stdout",
     "output_type": "stream",
     "text": [
      ">> send cmd: streamon\n"
     ]
    }
   ],
   "source": [
    "def stream_started_change(change):\n",
    "    ss_video_stream.value = change.new\n",
    "    \n",
    "# Create a streaming camera object for the Tello camera start the video stream\n",
    "\n",
    "tello.send_command('streamon')\n",
    "\n",
    "try:\n",
    "    camera = StreamCamera.instance() # TODO Need to add ip address parameter   \n",
    "except (cv2.error,RuntimeError) as msg:\n",
    "    camera = None\n",
    "    response_line.value = repr(msg)\n",
    "else:\n",
    "    camera.unobserve_all()\n",
    "    camera.observe(stream_started_change, names='started')\n",
    "    camera.start()\n"
   ]
  },
  {
   "cell_type": "markdown",
   "metadata": {},
   "source": [
    "### Create a Machine Learning Process (SDD-DNN) for Image Processing"
   ]
  },
  {
   "cell_type": "code",
   "execution_count": 13,
   "metadata": {},
   "outputs": [],
   "source": [
    "def image_change(change):\n",
    "    video_frame.value = bytes(cv2.imencode('.jpg', change['new'])[1])\n",
    "    \n",
    "    # if tracking activated and something found, display the confidentce\n",
    "    if mlp.detections_active and bool(mlp.filtered_detections):\n",
    "        detection_confidence.value = str(mlp.filtered_detections[0]['confidence'])\n",
    "    else:\n",
    "        detection_confidence.value = 'No Detections'\n",
    "\n",
    "def mlp_started_change(change):\n",
    "    ss_ml_process.value = change.new\n",
    "    \n",
    "# Create a ML process and start the thread\n",
    "try:\n",
    "    mlp = MLProcess.instance(camera=camera, tello=tello)   \n",
    "except (RuntimeError) as msg:\n",
    "    mlp = None\n",
    "    response_line.value = repr(msg)\n",
    "else:\n",
    "    mlp.unobserve_all()\n",
    "    mlp.observe(mlp_started_change, names='started')\n",
    "    mlp.observe(image_change, names='processed_image')\n",
    "    mlp.start()\n"
   ]
  },
  {
   "cell_type": "code",
   "execution_count": 14,
   "metadata": {},
   "outputs": [],
   "source": [
    "temp = mlp.filtered_detections"
   ]
  },
  {
   "cell_type": "code",
   "execution_count": 15,
   "metadata": {},
   "outputs": [
    {
     "data": {
      "text/plain": [
       "False"
      ]
     },
     "execution_count": 15,
     "metadata": {},
     "output_type": "execute_result"
    }
   ],
   "source": [
    "bool(mlp.filtered_detections)"
   ]
  },
  {
   "cell_type": "code",
   "execution_count": 16,
   "metadata": {},
   "outputs": [
    {
     "data": {
      "text/plain": [
       "[]"
      ]
     },
     "execution_count": 16,
     "metadata": {},
     "output_type": "execute_result"
    }
   ],
   "source": [
    "temp"
   ]
  },
  {
   "cell_type": "code",
   "execution_count": 17,
   "metadata": {},
   "outputs": [
    {
     "ename": "IndexError",
     "evalue": "list index out of range",
     "output_type": "error",
     "traceback": [
      "\u001b[0;31m---------------------------------------------------------------------------\u001b[0m",
      "\u001b[0;31mIndexError\u001b[0m                                Traceback (most recent call last)",
      "\u001b[0;32m<ipython-input-17-7b4f3490279b>\u001b[0m in \u001b[0;36m<module>\u001b[0;34m\u001b[0m\n\u001b[0;32m----> 1\u001b[0;31m \u001b[0maccuracy_widget\u001b[0m\u001b[0;34m.\u001b[0m\u001b[0mvalue\u001b[0m \u001b[0;34m=\u001b[0m \u001b[0mtemp\u001b[0m\u001b[0;34m[\u001b[0m\u001b[0;36m0\u001b[0m\u001b[0;34m]\u001b[0m\u001b[0;34m[\u001b[0m\u001b[0;34m'confidence'\u001b[0m\u001b[0;34m]\u001b[0m\u001b[0;34m\u001b[0m\u001b[0;34m\u001b[0m\u001b[0m\n\u001b[0m",
      "\u001b[0;31mIndexError\u001b[0m: list index out of range"
     ]
    }
   ],
   "source": [
    "accuracy_widget.value = temp[0]['confidence']"
   ]
  },
  {
   "cell_type": "code",
   "execution_count": null,
   "metadata": {},
   "outputs": [],
   "source": [
    "detection_accuracy.value = str(10)"
   ]
  },
  {
   "cell_type": "code",
   "execution_count": null,
   "metadata": {},
   "outputs": [],
   "source": []
  }
 ],
 "metadata": {
  "kernelspec": {
   "display_name": "Python 3",
   "language": "python",
   "name": "python3"
  },
  "language_info": {
   "codemirror_mode": {
    "name": "ipython",
    "version": 3
   },
   "file_extension": ".py",
   "mimetype": "text/x-python",
   "name": "python",
   "nbconvert_exporter": "python",
   "pygments_lexer": "ipython3",
   "version": "3.6.9"
  }
 },
 "nbformat": 4,
 "nbformat_minor": 4
}
