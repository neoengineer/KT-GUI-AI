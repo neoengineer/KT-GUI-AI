{
 "cells": [
  {
   "cell_type": "markdown",
   "metadata": {},
   "source": [
    "# Graphical User Interface for Single Tello Operation \n",
    "## Featuring Automated Target Detection and Tracking\n",
    "\n"
   ]
  },
  {
   "cell_type": "markdown",
   "metadata": {},
   "source": [
    "### Imports and Globals\n",
    "The first step is to import the required libraries..."
   ]
  },
  {
   "cell_type": "code",
   "execution_count": 1,
   "metadata": {},
   "outputs": [],
   "source": [
    "# Standard library imports\n",
    "import threading \n",
    "import socket\n",
    "import queue\n",
    "#from PIL import Image\n",
    "from time import sleep\n",
    "\n",
    "\n",
    "# Third party imports\n",
    "import numpy as np\n",
    "import cv2\n",
    "from IPython.display import display\n",
    "import ipywidgets.widgets as widgets\n",
    "\n",
    "# Local application imports\n",
    "from tello_camera import TelloCamera\n",
    "from tello import Tello\n",
    "from NVidia.object_detection import *"
   ]
  },
  {
   "cell_type": "code",
   "execution_count": 2,
   "metadata": {},
   "outputs": [],
   "source": [
    "# Globals\n",
    "\n",
    "#TelloIP = '10.10.30.31'\n",
    "TelloIP = '192.168.10.1'\n",
    "\n",
    "TelloCmdPort = 8889      # Command and response\n",
    "TelloStatusPort = 8890   # Status data from the Tello \n",
    "TelloVideoPort = 11111   # h.264 video stream from the Tello"
   ]
  },
  {
   "cell_type": "markdown",
   "metadata": {},
   "source": [
    "### Create a Graphical User Interface\n",
    "The user intreface is built using Jupyter Widgets...\n",
    "\n",
    "Explain event driven programming using on submit and observe methods..."
   ]
  },
  {
   "cell_type": "code",
   "execution_count": 3,
   "metadata": {},
   "outputs": [],
   "source": [
    "# The status data area is created using a grid widget. This widget allows all of the elements to be placed at uniformly\n",
    "# spaced intervals. A list of Text widgets is created (status_items) to hold each piece of status data from the Tello.\n",
    "# One widget from the list is then assigned a specific spot on the grid to create the data layout that is desired.\n",
    "# The status thread will directly update the values for each widget in the background. The order of the data in the list\n",
    "# is just the prder defined the the SDK. For example status_item[15] is the battery voltage.\n",
    "\n",
    "status_grid = widgets.GridspecLayout (9,4)\n",
    "\n",
    "sg_style = {'description_width':'40px'}\n",
    "\n",
    "# Create a text box for each of the status items sent from the Tello\n",
    "status_items = [ widgets.Text(value = str(index),\n",
    "                              description=str(index),\n",
    "                              layout=widgets.Layout(width='100px'),\n",
    "                              style=sg_style, \n",
    "                              disabled=True) for index in range(21) ]\n",
    "\n",
    "#status_grid[0,0] = widgets.Label(value=\"Found MP:\")\n",
    "status_grid[0,0] = status_items[0]\n",
    "                          \n",
    "for i in [1,2,3]:\n",
    "    status_grid[0,i] = status_items[i]\n",
    "\n",
    "status_grid[2,0] = widgets.Label(value=\"Attitude:\")\n",
    "for i in [1,2,3]:\n",
    "    status_grid[2,i] = status_items[i+4]\n",
    "    \n",
    "status_grid[3,0] = widgets.Label(value=\"Velocity:\")\n",
    "for i in [1,2,3]:\n",
    "    status_grid[3,i] = status_items[i+7]\n",
    "\n",
    "status_grid[4,0] = widgets.Label(value=\"Acc:\")\n",
    "for i in [1,2,3]:\n",
    "    status_grid[4,i] = status_items[i+17]\n",
    "\n",
    "status_grid[5,0] = widgets.Label(value=\"Temp:\")\n",
    "status_grid[5,1] = status_items[11]\n",
    "status_grid[5,2] = status_items[12]\n",
    "    \n",
    "status_grid[6,0] = widgets.Label(value=\"Time:\")\n",
    "status_grid[6,1] = status_items[13]\n",
    "status_grid[6,2] = status_items[17]\n",
    "\n",
    "status_grid[7,0] = widgets.Label(value=\"Altitdue:\")\n",
    "status_grid[7,1] = status_items[14]\n",
    "status_grid[7,2] = status_items[16] \n",
    "    \n",
    "status_grid[8,0] = widgets.Label(value=\"Battery:\")\n",
    "status_grid[8,1] = status_items[15]\n"
   ]
  },
  {
   "cell_type": "code",
   "execution_count": 4,
   "metadata": {},
   "outputs": [],
   "source": [
    "# create system status indicators\n",
    "ss_style = {'description_width':'110px'}\n",
    "ss_title_bar = widgets.Text(value = TelloIP, description = 'IP Address:')\n",
    "ss_command_socket = widgets.Valid(value=False, description='Command Socket', style=ss_style)\n",
    "ss_status_socket = widgets.Valid(value=False, description='Status Socket', style=ss_style)\n",
    "ss_command_mode = widgets.Valid(value=False, description='Command State', style=ss_style)\n",
    "ss_video_stream = widgets.Valid(value=False, description='Video Streaming', style=ss_style)\n",
    "ss_dnn_model_load = widgets.Valid(value=False, description='DNN Model', style=ss_style)\n",
    "\n",
    "# create a composite control\n",
    "system_status= widgets.VBox([ss_title_bar,\n",
    "                             ss_command_socket,\n",
    "                             ss_status_socket,\n",
    "                             ss_command_mode,\n",
    "                             ss_video_stream,\n",
    "                             ss_dnn_model_load], \n",
    "                            layout=widgets.Layout(align_self='auto'))"
   ]
  },
  {
   "cell_type": "code",
   "execution_count": 5,
   "metadata": {},
   "outputs": [],
   "source": [
    "# create flight control buttons\n",
    "fc_button_layout = widgets.Layout(width='80px', height='60px', align_self='center')\n",
    "fc_center_button = widgets.Button(description='Takeoff', button_style='success', layout=fc_button_layout)\n",
    "fc_forward_button = widgets.Button(description='forward', layout=fc_button_layout)\n",
    "fc_backward_button = widgets.Button(description='backward', layout=fc_button_layout)\n",
    "fc_left_button = widgets.Button(description='left', layout=fc_button_layout)\n",
    "fc_right_button = widgets.Button(description='right', layout=fc_button_layout)\n",
    "fc_middle_box = widgets.HBox([fc_left_button, fc_center_button, fc_right_button], layout=widgets.Layout(align_self='center'))\n",
    "fc_button_box = widgets.VBox([fc_forward_button, fc_middle_box, fc_backward_button])\n",
    "\n",
    "fc_altitude_slider = widgets.IntSlider(\n",
    "                    value=7,\n",
    "                    min=20,\n",
    "                    max=500,\n",
    "                    step=10,\n",
    "                    description='Alt:',\n",
    "                    disabled=False,\n",
    "                    continuous_update=False,\n",
    "                    orientation='vertical',\n",
    "                    readout=True,\n",
    "                    readout_format='d'\n",
    "                )\n",
    "\n",
    "# create a composite control\n",
    "flight_controls = widgets.HBox([fc_button_box, fc_altitude_slider], layout=widgets.Layout(align_self='center'))"
   ]
  },
  {
   "cell_type": "code",
   "execution_count": 6,
   "metadata": {},
   "outputs": [],
   "source": [
    "# create a live video window\n",
    "# Tello's native video resolution is 720p 1280 x 720\n",
    "video_frame = widgets.Image(format='jpeg', width=170, height=90, description='test')\n",
    "video_frame = video_frame.from_file('test_image.jpg')"
   ]
  },
  {
   "cell_type": "code",
   "execution_count": 7,
   "metadata": {},
   "outputs": [],
   "source": [
    "# create target controls\n",
    "target_selection = widgets.Dropdown(\n",
    "                        options=[('None', 0), ('Person', 1), ('Cup', 41), ('Three', 3)],\n",
    "                        value=0,\n",
    "                        description='Target:',\n",
    "                        )\n",
    "\n",
    "detect_button = widgets.Button(description='Detect', layout=widgets.Layout(align_self='center'))\n",
    "track_button = widgets.Button(description='Track', layout=widgets.Layout(align_self='center'))\n",
    "target_activation = widgets.HBox([detect_button, track_button])\n",
    "\n",
    "detection_accuracy = widgets.IntProgress(\n",
    "                    value=0.0,\n",
    "                    min=0.0,\n",
    "                    max=1.0,\n",
    "                    step=1,\n",
    "                    description='Accuracy:',\n",
    "                    bar_style='', # 'success', 'info', 'warning', 'danger' or ''\n",
    "                    orientation='horizontal'\n",
    "                )\n",
    "target_controls = widgets.VBox([target_selection,  \n",
    "                                detection_accuracy,\n",
    "                                target_activation] )"
   ]
  },
  {
   "cell_type": "code",
   "execution_count": 8,
   "metadata": {},
   "outputs": [],
   "source": [
    "#create machine learning controls\n",
    "epochs_widget = widgets.IntText(description='epochs', value=1, layout=widgets.Layout(align_self='center'))\n",
    "eval_button = widgets.Button(description='evaluate', layout=widgets.Layout(align_self='center'))\n",
    "train_button = widgets.Button(description='train')\n",
    "loss_widget = widgets.FloatText(description='loss')\n",
    "accuracy_widget = widgets.FloatText(description='accuracy')\n",
    "progress_widget = widgets.FloatProgress(min=0.0, max=1.0, description='progress')\n",
    "\n",
    "machine_learning_controls = widgets.VBox([ epochs_widget,\n",
    "                                           eval_button,\n",
    "                                           loss_widget,\n",
    "                                           accuracy_widget,\n",
    "                                           progress_widget ])"
   ]
  },
  {
   "cell_type": "code",
   "execution_count": 9,
   "metadata": {},
   "outputs": [],
   "source": [
    "# create command area controls\n",
    "command_line = widgets.Text(description='Commands:',\n",
    "                            value='',\n",
    "                            placeholder='command takeoff land flip forward back left right up down cw ccw speed speed?',\n",
    "                            layout = widgets.Layout(width='800px'))\n",
    "# response line\n",
    "response_line = widgets.Textarea(description='Response:',\n",
    "                                 value='',\n",
    "                                 layout = widgets.Layout(width='800px'))\n",
    "\n",
    "command_area = widgets.VBox([ command_line,response_line ])"
   ]
  },
  {
   "cell_type": "markdown",
   "metadata": {},
   "source": [
    "### Create The Composit GUI\n",
    "The AppLayout widget is used to organize the individual elements of the GUI. The widget is divided into five \n",
    "main areas - a header, a footer and three middle areas - left, center and right. Each of the sections defined above\n",
    "are assigned to the AppLayout widget and then the composit GUI is displayed."
   ]
  },
  {
   "cell_type": "code",
   "execution_count": 10,
   "metadata": {},
   "outputs": [
    {
     "data": {
      "application/vnd.jupyter.widget-view+json": {
       "model_id": "d7e5afe7e54d4822bf740b63035da2d7",
       "version_major": 2,
       "version_minor": 0
      },
      "text/plain": [
       "AppLayout(children=(VBox(children=(Text(value='', description='Commands:', layout=Layout(width='800px'), place…"
      ]
     },
     "metadata": {},
     "output_type": "display_data"
    }
   ],
   "source": [
    "left = widgets.VBox([status_grid, \n",
    "                     system_status], \n",
    "                    layout=widgets.Layout(align_self='auto'))\n",
    "\n",
    "center = widgets.VBox([video_frame, flight_controls])\n",
    "right = widgets.VBox([target_controls])\n",
    "\n",
    "composit_gui = widgets.AppLayout(header = None,\n",
    "                                 left_sidebar = left,\n",
    "                                 center = center,\n",
    "                                 right_sidebar = right,\n",
    "                                 pane_widths = [2,2,2],\n",
    "                                 pane_heights = ['50px',3,1],\n",
    "                                 footer = command_area)\n",
    "display(composit_gui)"
   ]
  },
  {
   "cell_type": "markdown",
   "metadata": {},
   "source": [
    "### Define Events"
   ]
  },
  {
   "cell_type": "code",
   "execution_count": 11,
   "metadata": {},
   "outputs": [],
   "source": [
    "# Send any command entered to the Tello\n",
    "def on_command_entered(widget_triggered):    \n",
    "    msg = widget_triggered.value\n",
    "    msg = msg.encode(encoding=\"utf-8\") \n",
    "    sent = cmd_socket.sendto(msg, (TelloIP, TelloCmdPort))\n",
    "    #widget_triggered.value = ''\n",
    "command_line.on_submit(on_command_entered)\n",
    "\n",
    "\n",
    "def execute(change):\n",
    "    image = change['new']\n",
    "    \n",
    "    if detect_button.get_state() == :\n",
    "    \n",
    "    # compute all detected objects\n",
    "    detections = model(image)\n",
    "    \n",
    "    # draw all detections on image\n",
    "    for det in detections[0]:\n",
    "        bbox = det['bbox']\n",
    "        cv2.rectangle(image, (int(300 * bbox[0]), int(300 * bbox[1])), (int(300 * bbox[2]), int(300 * bbox[3])), (255, 0, 0), 2)\n",
    "    \n",
    "    # select detections that match selected class label\n",
    "    matching_detections = [d for d in detections[0] if d['label'] == 1]\n",
    "    \n",
    "    # get detection closest to center of field of view and draw it\n",
    "    #det = closest_detection(matching_detections)\n",
    "    #if det is not None:\n",
    "    #    bbox = det['bbox']\n",
    "    #    cv2.rectangle(image, (int(width * bbox[0]), int(height * bbox[1])), (int(width * bbox[2]), int(height * bbox[3])), (0, 255, 0), 5)\n",
    "    \n",
    "    video_frame.value = bytes(cv2.imencode('.jpg', image)[1])"
   ]
  },
  {
   "cell_type": "code",
   "execution_count": 12,
   "metadata": {},
   "outputs": [
    {
     "name": "stdout",
     "output_type": "stream",
     "text": [
      ">> send cmd: command\n"
     ]
    }
   ],
   "source": [
    "# Create a UDP socket for commands\n",
    "try:\n",
    "#    cmd_socket = socket.socket(socket.AF_INET, socket.SOCK_DGRAM)\n",
    "#    cmd_socket.bind (('192.168.10.2', TelloCmdPort)) #host ip, port\n",
    "    tello = Tello('192.168.10.2', TelloCmdPort)\n",
    "except OSError as msg:\n",
    "    cmd_socket = None\n",
    "    ss_command_socket.value = False\n",
    "    response_line.Value = str(msg)\n",
    "else:\n",
    "    ss_command_socket.value = True\n",
    "\n",
    "    response_line.value = tello.send_command('command')\n",
    "    if response_line.value == 'ok':\n",
    "        ss_command_mode.value = True\n",
    "\n"
   ]
  },
  {
   "cell_type": "markdown",
   "metadata": {},
   "source": [
    "### Create Tello Status Thread\n",
    "Create thread to collect status data"
   ]
  },
  {
   "cell_type": "code",
   "execution_count": 13,
   "metadata": {},
   "outputs": [],
   "source": [
    "# The status data is sent from the Tello in a fixed order. The background thread reads that data and builds a list\n",
    "# of strings containing the data lables and values. \n",
    "\n",
    "def receive_status_thread(_status_items):\n",
    "\n",
    "    while True: \n",
    "        try:\n",
    "            b_data, ip = status_socket.recvfrom(1518)\n",
    "            #print (\"Got a status\", ip, data)\n",
    "            data = b_data.decode(encoding='utf-8')\n",
    "            data = data[:-5].split(';') # convert the data into an array of individual strings, cutting off the trailing ';\\r\\n'\n",
    "\n",
    "            # The elements defined in the GUI rely on the data being saved to the list in order as defined in the SDK\n",
    "            # todo - test to make sure data lenght = list size\n",
    "            for index in range (len(data)):\n",
    "                _status_items[index].description = data[index].split(':')[0]\n",
    "                _status_items[index].value = data[index].split(':')[1]              \n",
    "            \n",
    "            # Convert the status data byte array to a string and save it and the ip address to the queue\n",
    "            #StatusQ.put(PacketBlob(data.decode(encoding=\"utf-8\"), ip[0]))\n",
    "            \n",
    "        except Exception:\n",
    "            print ('\\nreceive_status exception - Exit . . .\\n')\n",
    "            break\n",
    "\n",
    "# Create a UDP socket for status\n",
    "try:\n",
    "    status_socket = socket.socket(socket.AF_INET, socket.SOCK_DGRAM)\n",
    "    status_socket.bind(('192.168.10.2', TelloStatusPort)) # host, port\n",
    "except OSError as msg:\n",
    "    ststus_socket = None\n",
    "    ss_status_socket.value = False\n",
    "    response_line.value = str(msg)\n",
    "else:\n",
    "    status_thread = threading.Thread(target=receive_status_thread, args=(status_items,))\n",
    "    status_thread.start()\n",
    "    ss_status_socket.value = True\n"
   ]
  },
  {
   "cell_type": "markdown",
   "metadata": {},
   "source": [
    "### Create a camera opbject to receive video from the Tello\n",
    "The Tello uses WiFi for all of its communication.\n",
    "\n",
    "The video socket is created by the OpenCV VideoCapture method defined in the TelloCamera class.\n",
    "*** Important Note: the current Tello firmware can only stream video if the Tello is directly connected to the host \n",
    "computer - i.e. at 192.168.10.1 without using a router. If you assign it to an existing netowork it will not stream video.\n",
    "The streamon command will not return an error."
   ]
  },
  {
   "cell_type": "code",
   "execution_count": 16,
   "metadata": {},
   "outputs": [
    {
     "name": "stdout",
     "output_type": "stream",
     "text": [
      ">> send cmd: streamon\n"
     ]
    }
   ],
   "source": [
    "# When the TelloCaera class is instantiated, it will test for valid video coming from the\n",
    "# Tello. If there is no active video stream, the camera object will fail.\n",
    "\n",
    "# start the video stream\n",
    "response_line.value = tello.send_command('streamon')\n",
    "\n",
    "# The Tello camera resoultion is (720,960,3) but SSD_mobilenet was trained on an image\n",
    "# of size (300,300,3). Setting the width and height will force the camera class to \n",
    "# resize the image to be compatible with the SDD_mobilenet engine\n",
    "try:\n",
    "    camera = TelloCamera.instance(width=300, height=300)\n",
    "except RuntimeError as msg:\n",
    "    camera = None\n",
    "    ss_video_stream.value = False\n",
    "    response_line.value = str(msg)\n",
    "else:\n",
    "    camera.unobserve_all()\n",
    "    camera.observe(execute, names='value')\n",
    "    ss_video_stream.value = True\n",
    "    "
   ]
  },
  {
   "cell_type": "markdown",
   "metadata": {},
   "source": [
    "### Load a Deep Neural Network for Image Processing\n",
    "The ..."
   ]
  },
  {
   "cell_type": "code",
   "execution_count": 15,
   "metadata": {},
   "outputs": [],
   "source": [
    "try:\n",
    "    model = ObjectDetector('ssd_mobilenet_v2_v04_coco.engine')\n",
    "except:\n",
    "    response_line.value = \"The DNN model failed ot load\"\n",
    "    ss_dnn_model_load.value = False\n",
    "else:\n",
    "    ss_dnn_model_load.value = True"
   ]
  },
  {
   "cell_type": "markdown",
   "metadata": {},
   "source": [
    "### Commands to get started\n",
    "\n",
    "Place the Tello in command mode by sending \n",
    "    command\n",
    "You should receive an ok. Sometimes the thread misses this - todo - debug this\n",
    "\n",
    "start the video stream by sending\n",
    "    streamon\n",
    "You should receive an ok and video should appear inthe center window. There is a slight lag in the video.\n",
    "\n",
    "todo - clear the command and response boxes on reentry to the command box"
   ]
  }
 ],
 "metadata": {
  "kernelspec": {
   "display_name": "Python 3",
   "language": "python",
   "name": "python3"
  },
  "language_info": {
   "codemirror_mode": {
    "name": "ipython",
    "version": 3
   },
   "file_extension": ".py",
   "mimetype": "text/x-python",
   "name": "python",
   "nbconvert_exporter": "python",
   "pygments_lexer": "ipython3",
   "version": "3.6.9"
  }
 },
 "nbformat": 4,
 "nbformat_minor": 4
}
