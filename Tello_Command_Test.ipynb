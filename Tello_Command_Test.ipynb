{
 "cells": [
  {
   "cell_type": "code",
   "execution_count": 1,
   "metadata": {},
   "outputs": [],
   "source": [
    "import socket\n",
    "import threading\n",
    "    \n",
    "def _receive_cmd_replies():\n",
    "\n",
    "    while True:\n",
    "        try:\n",
    "            response, ip = _cmd_socket.recvfrom(1518) # 1518 in other sample code...\n",
    "            print(response)\n",
    "        except OSError as msg:\n",
    "            print (\"Caught exception socket.error : %s\" % repr(msg))\n",
    "                   \n",
    "def send_command(command):\n",
    "\n",
    "    print (\">> send cmd: {}\".format(command))\n",
    "    try:\n",
    "        _cmd_socket.sendto(command.encode('utf-8'), ('192.168.10.1', 8889))\n",
    "\n",
    "    except (socket.error, OSError) as msg:\n",
    "        prinnt('WARNING: Socket Error!! ' + repr(msg))\n",
    "        \n",
    "_cmd_socket = socket.socket(socket.AF_INET, socket.SOCK_DGRAM)  # socket for sending / receiving commands\n",
    "_cmd_socket.bind(('192.168.10.2', 8889))\n",
    "_cmd_thread = threading.Thread(target=_receive_cmd_replies)\n",
    "_cmd_thread.daemon = True\n",
    "_cmd_thread.start()\n"
   ]
  },
  {
   "cell_type": "code",
   "execution_count": 16,
   "metadata": {},
   "outputs": [
    {
     "name": "stdout",
     "output_type": "stream",
     "text": [
      ">> send cmd: takeoff\n",
      "b'error'\n"
     ]
    }
   ],
   "source": [
    "send_command('takeoff')"
   ]
  },
  {
   "cell_type": "code",
   "execution_count": 13,
   "metadata": {},
   "outputs": [
    {
     "name": "stdout",
     "output_type": "stream",
     "text": [
      ">> send cmd: stop\n",
      "b'ok'\n",
      "b'forced stop'\n"
     ]
    }
   ],
   "source": [
    "send_command('stop')"
   ]
  },
  {
   "cell_type": "code",
   "execution_count": 4,
   "metadata": {},
   "outputs": [
    {
     "name": "stdout",
     "output_type": "stream",
     "text": [
      ">> send cmd: takeoff\n"
     ]
    }
   ],
   "source": [
    "send_command('takeoff')"
   ]
  },
  {
   "cell_type": "code",
   "execution_count": 18,
   "metadata": {},
   "outputs": [
    {
     "name": "stdout",
     "output_type": "stream",
     "text": [
      ">> send cmd: land\n",
      "b'error'\n",
      "b'ok'\n"
     ]
    }
   ],
   "source": [
    "send_command('land')"
   ]
  },
  {
   "cell_type": "code",
   "execution_count": 11,
   "metadata": {},
   "outputs": [
    {
     "name": "stdout",
     "output_type": "stream",
     "text": [
      ">> send cmd: speed?\n",
      "b'100.0\\r\\n'\n"
     ]
    }
   ],
   "source": [
    "send_command('speed?')"
   ]
  },
  {
   "cell_type": "code",
   "execution_count": 10,
   "metadata": {},
   "outputs": [
    {
     "name": "stdout",
     "output_type": "stream",
     "text": [
      ">> send cmd: rc -20 0 0 0\n"
     ]
    }
   ],
   "source": [
    "send_command('rc -20 0 0 0')"
   ]
  },
  {
   "cell_type": "code",
   "execution_count": 9,
   "metadata": {},
   "outputs": [
    {
     "name": "stdout",
     "output_type": "stream",
     "text": [
      ">> send cmd: streamoff\n",
      "b'ok'\n"
     ]
    }
   ],
   "source": [
    "send_command('streamoff')"
   ]
  },
  {
   "cell_type": "code",
   "execution_count": 3,
   "metadata": {},
   "outputs": [
    {
     "name": "stdout",
     "output_type": "stream",
     "text": [
      ">> send cmd: command\n",
      "b'ok'\n"
     ]
    }
   ],
   "source": [
    "send_command('command')"
   ]
  },
  {
   "cell_type": "code",
   "execution_count": 8,
   "metadata": {},
   "outputs": [
    {
     "name": "stdout",
     "output_type": "stream",
     "text": [
      ">> send cmd: sn?\n",
      "b'0TQDG1FEDB5QD6'\n"
     ]
    }
   ],
   "source": [
    "send_command('sn?')"
   ]
  },
  {
   "cell_type": "code",
   "execution_count": 20,
   "metadata": {},
   "outputs": [
    {
     "name": "stdout",
     "output_type": "stream",
     "text": [
      ">> send cmd: battery?\n",
      "b'56\\r\\n'\n"
     ]
    }
   ],
   "source": [
    "send_command('battery?')"
   ]
  },
  {
   "cell_type": "code",
   "execution_count": null,
   "metadata": {},
   "outputs": [],
   "source": []
  }
 ],
 "metadata": {
  "kernelspec": {
   "display_name": "Python 3",
   "language": "python",
   "name": "python3"
  },
  "language_info": {
   "codemirror_mode": {
    "name": "ipython",
    "version": 3
   },
   "file_extension": ".py",
   "mimetype": "text/x-python",
   "name": "python",
   "nbconvert_exporter": "python",
   "pygments_lexer": "ipython3",
   "version": "3.6.9"
  }
 },
 "nbformat": 4,
 "nbformat_minor": 4
}
